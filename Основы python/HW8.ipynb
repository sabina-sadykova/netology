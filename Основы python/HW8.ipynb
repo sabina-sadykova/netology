{
 "cells": [
  {
   "cell_type": "markdown",
   "metadata": {},
   "source": [
    "# Задание 1.\n",
    "Напишите функцию, которая принимает на вход строку и проверяет является ли она валидным транспортным номером. Если да, то функция должна возвращать отдельно номер и регион."
   ]
  },
  {
   "cell_type": "code",
   "execution_count": 1,
   "metadata": {},
   "outputs": [],
   "source": [
    "import re"
   ]
  },
  {
   "cell_type": "code",
   "execution_count": 13,
   "metadata": {},
   "outputs": [],
   "source": [
    "def is_autonum():\n",
    "    num = input('Введите номер:')\n",
    "    if re.match(r'([АВЕКМНОРСТУХ])(\\d{3})([АВЕКМНОРСТУХ]{2})(\\d{2,3}$)',num):\n",
    "        print(re.findall(r'([АВЕКМНОРСТУХ]\\d{3}[АВЕКМНОРСТУХ]{2})',num), re.findall(r'(\\d{2,3}$)',num))\n",
    "    else:\n",
    "        print('Error')"
   ]
  },
  {
   "cell_type": "code",
   "execution_count": 15,
   "metadata": {},
   "outputs": [
    {
     "name": "stdout",
     "output_type": "stream",
     "text": [
      "Введите номер:А565АВ95\n",
      "['А565АВ'] ['95']\n"
     ]
    }
   ],
   "source": [
    "is_autonum()"
   ]
  },
  {
   "cell_type": "markdown",
   "metadata": {},
   "source": [
    "# Задание 2. \n",
    "Постарайтесь написать (в крайнем случае найти) самый полный шаблон для проверки e-mail адресов через регулярное выражение, которая проверяет e-mail адрес на валидность. Можно руководствоваться следующими минимальными требованиями:\n",
    " - адрес должен содержать специальный символ \"@\", который отделяет имя пользователя почтовой системы от доменного имени;\n",
    " - адрес не должен содержать следующие символы: \"пробел\", \",\", \":\", \";\", \"!\", \"#\", \"%\", \"*\", \"(\", \")\", \"=\", \"+\", \"{\", \"}\", \" \" \", \" ' \", \" / \", \" \\ \" и \"|\";\n",
    " - адрес должен состоять только из латинских символов;\n",
    " - после символа \"@\" должна быть как минимум одна \".\";\n",
    " - после последней точки должно быть не менее 2-х и не более 4-х символов, причем наличие цифр не допускается;\n",
    " - между последней точкой и символом \"@\" должно быть не менее 2-х символов слева от \"@\" должно быть не менее четырех символов"
   ]
  },
  {
   "cell_type": "code",
   "execution_count": 25,
   "metadata": {},
   "outputs": [],
   "source": [
    "def email_check():\n",
    "    email = input('Введите email:')\n",
    "    if re.match(r'([a-zA-Z0-9.]{,100})(@)([a-zA-Z]{,100})(.)(\\w{2,4}$)',email):\n",
    "        print('Ok')\n",
    "    else:\n",
    "        print('Error')"
   ]
  },
  {
   "cell_type": "code",
   "execution_count": 27,
   "metadata": {},
   "outputs": [
    {
     "name": "stdout",
     "output_type": "stream",
     "text": [
      "Введите email:sabinasaadykova@gmail.com\n",
      "Ok\n"
     ]
    }
   ],
   "source": [
    "email_check()"
   ]
  },
  {
   "cell_type": "code",
   "execution_count": 30,
   "metadata": {},
   "outputs": [
    {
     "name": "stdout",
     "output_type": "stream",
     "text": [
      "Введите email:sabinasaadykova@gmail.c\n",
      "Error\n"
     ]
    }
   ],
   "source": [
    "email_check()"
   ]
  },
  {
   "cell_type": "markdown",
   "metadata": {},
   "source": [
    "# Задание 3. \n",
    "Напишите функцию, которая будет удалять все последовательные повторы слов из заданной строки при помощи регулярных выражений."
   ]
  },
  {
   "cell_type": "code",
   "execution_count": 32,
   "metadata": {},
   "outputs": [
    {
     "name": "stdout",
     "output_type": "stream",
     "text": [
      "Привет мир\n"
     ]
    }
   ],
   "source": [
    "string = 'Привет мир мир'\n",
    "\n",
    "def del_dubl(string):\n",
    "    del_str = re.sub(r'\\b(\\w+)\\W+\\1\\b', r'\\1', string)\n",
    "    return del_str\n",
    "\n",
    "print(del_dubl(string))"
   ]
  },
  {
   "cell_type": "markdown",
   "metadata": {},
   "source": [
    "# Задание 4.\n",
    "Напишите функцию, которая будет проверять номер сотового телефона на валидность, если он валиден, то переводить его в формат:\n",
    "\n",
    "+7(xxx)-xxx-xx-xx\n",
    "\n",
    "\n",
    "Постарайтесь предусмотреть как можно больше адекватных форматов изначального ввода номера. Примеры валидных форматов:\n",
    "\n",
    " - +7 955 555-55-55;\n",
    " - 9555555555;\n",
    " - 8(955)555-55-55;\n",
    " - +7 955 555 55 55;\n",
    " - 7(955) 555-55-55;\n",
    " - +7 955+555+55+55."
   ]
  },
  {
   "cell_type": "code",
   "execution_count": 40,
   "metadata": {},
   "outputs": [],
   "source": [
    "def check_number():\n",
    "    num = input('Введите номер:')\n",
    "    if re.match(r'^\\D?\\d?\\D*(\\w{3})\\D*(\\w{3})\\D*(\\w{2})\\D*(\\w{2})$',num):\n",
    "        new_num = re.sub(r'^\\D?\\d?\\D*(\\w{3})\\D*(\\w{3})\\D*(\\w{2})\\D*(\\w{2})$',r'+7(\\1)-\\2-\\3-\\4',num)\n",
    "        print(new_num)\n",
    "    else:\n",
    "        print('Error')"
   ]
  },
  {
   "cell_type": "code",
   "execution_count": 41,
   "metadata": {},
   "outputs": [
    {
     "name": "stdout",
     "output_type": "stream",
     "text": [
      "Введите номер:+7 955+555+55+55\n",
      "+7(955)-555-55-55\n"
     ]
    }
   ],
   "source": [
    "check_number()"
   ]
  },
  {
   "cell_type": "code",
   "execution_count": null,
   "metadata": {},
   "outputs": [],
   "source": []
  }
 ],
 "metadata": {
  "kernelspec": {
   "display_name": "Python 3",
   "language": "python",
   "name": "python3"
  },
  "language_info": {
   "codemirror_mode": {
    "name": "ipython",
    "version": 3
   },
   "file_extension": ".py",
   "mimetype": "text/x-python",
   "name": "python",
   "nbconvert_exporter": "python",
   "pygments_lexer": "ipython3",
   "version": "3.7.4"
  }
 },
 "nbformat": 4,
 "nbformat_minor": 2
}
