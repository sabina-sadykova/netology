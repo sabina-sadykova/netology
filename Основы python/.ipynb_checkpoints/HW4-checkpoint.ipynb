{
 "cells": [
  {
   "cell_type": "markdown",
   "metadata": {},
   "source": [
    "Вы работаете секретарем и вам постоянно приходят различные документы. Вы должны быть очень внимательны, чтобы не потерять ни один документ. Каталог документов хранится в следующем виде:"
   ]
  },
  {
   "cell_type": "code",
   "execution_count": 35,
   "metadata": {},
   "outputs": [],
   "source": [
    "documents = [\n",
    "    {'type': 'passport', 'number': '2207 876234', 'name': 'Василий Гупкин'},\n",
    "    {'type': 'invoice', 'number': '11-2', 'name': 'Геннадий Покемонов'},\n",
    "    {'type': 'insurance', 'number': '10006', 'name': 'Аристарх Павлов'}\n",
    "]"
   ]
  },
  {
   "cell_type": "markdown",
   "metadata": {},
   "source": [
    "Перечень полок, на которых находятся документы хранится в следующем виде:"
   ]
  },
  {
   "cell_type": "code",
   "execution_count": 2,
   "metadata": {},
   "outputs": [],
   "source": [
    "directories = {\n",
    "    '1': ['2207 876234', '11-2'],\n",
    "    '2': ['10006'],\n",
    "    '3': []\n",
    "}\n"
   ]
  },
  {
   "cell_type": "markdown",
   "metadata": {},
   "source": [
    "Необходимо реализовать пользовательские команды (внимание! это не название функций, которые должны быть выразительными, а команды, которые вводит пользователь, чтобы получить необходимый результат):\n",
    "  \n",
    "- p – people – команда, которая спросит номер документа и выведет имя человека, которому он принадлежит;  \n",
    "- s – shelf – команда, которая спросит номер документа и выведет номер полки, на которой он находится  \n",
    "*Правильно обработайте ситуации, когда пользователь будет вводить несуществующий документ*.\n",
    "- l – list – команда, которая выведет список всех документов в формате   \n",
    "**passport \"2207 876234\" \"Василий Гупкин\"**  \n",
    "- as – add shelf – команда, которая спросит номер новой полки и добавит ее в перечень. *Предусмотрите случай, когда пользователь добавляет полку, которая уже существует*.\n",
    "- d – delete – команда, которая спросит номер документа и удалит его из каталога и из перечня полок. *Предусмотрите сценарий, когда пользователь вводит несуществующий документ*;  \n",
    "- m – move – команда, которая спросит номер документа и целевую полку и переместит его с текущей полки на целевую. *Корректно обработайте кейсы, когда пользователь пытается переместить несуществующий документ или переместить документ на несуществующую полку*;  \n",
    "- a – add – команда, которая добавит новый документ в каталог и в перечень полок, спросив его номер, тип, имя владельца и номер полки, на котором он будет храниться. *Корректно обработайте ситуацию, когда пользователь будет пытаться добавить документ на несуществующую полку*."
   ]
  },
  {
   "cell_type": "code",
   "execution_count": 3,
   "metadata": {},
   "outputs": [],
   "source": [
    "def get_name_for_doc():\n",
    "    doc_number = input('Введите номер документа: ') \n",
    "    name='Ошибка! Указанного номера нет на полках.'\n",
    "    for person in documents:\n",
    "        if doc_number == person['number']:\n",
    "            name = person['name']\n",
    "    return print(name)"
   ]
  },
  {
   "cell_type": "code",
   "execution_count": 4,
   "metadata": {},
   "outputs": [],
   "source": [
    "def get_shelf_for_doc():\n",
    "    doc_number = input('Введите номер документа: ') \n",
    "    sh='Ошибка! Указанного номера нет на полках.'\n",
    "    for shelf, docs_list in directories.items():\n",
    "        if doc_number in docs_list:\n",
    "            sh=shelf       \n",
    "    return print(sh)"
   ]
  },
  {
   "cell_type": "code",
   "execution_count": 5,
   "metadata": {},
   "outputs": [],
   "source": [
    "def get_all_docs():\n",
    "    for doc in documents:\n",
    "        values_list = list(doc.values())\n",
    "        print(f'{values_list[0]} \"{values_list[1]}\" \"{values_list[2]}\"')"
   ]
  },
  {
   "cell_type": "code",
   "execution_count": 6,
   "metadata": {},
   "outputs": [],
   "source": [
    "def add_shelf():\n",
    "    shelf_n = input('Введите номер новой полки: ')\n",
    "    if shelf_n in directories:\n",
    "        print('Данная полка уже существует.')\n",
    "    else:        \n",
    "        directories.setdefault(shelf_n, [])\n",
    "        print('Полка добавлена.')\n",
    "    return print(shelf_n)"
   ]
  },
  {
   "cell_type": "code",
   "execution_count": 7,
   "metadata": {},
   "outputs": [],
   "source": [
    "def del_doc():\n",
    "    doc_number = input('Введите номер документа: ') \n",
    "    result='Ошибка! Указанного номера нет на полках.'\n",
    "    for person in documents:\n",
    "        if doc_number in person['number']:\n",
    "            documents.remove(person)\n",
    "            result = 'Документ удален.'\n",
    "    for shelf, docs_list in directories.items():\n",
    "        if doc_number in docs_list:\n",
    "            directories[shelf].remove(doc_number)\n",
    "    return print(result)"
   ]
  },
  {
   "cell_type": "code",
   "execution_count": 8,
   "metadata": {},
   "outputs": [],
   "source": [
    "def moove_doc():\n",
    "    doc_number = input('Введите номер документа: ') \n",
    "    result = 'Ошибка! Указанного номера нет на полках.'\n",
    "    sh = None\n",
    "    for shelf, docs_list in directories.items():\n",
    "            if doc_number in docs_list:\n",
    "                sh=shelf \n",
    "    if sh == None:\n",
    "        print(result)\n",
    "    else:\n",
    "        sh_number = input('Введите номер полки: ') \n",
    "        if sh_number == sh:\n",
    "            print('Документ находится на нужной полке.')\n",
    "        else:\n",
    "            directories[sh].remove(doc_number)\n",
    "            directories[sh_number].append(doc_number)\n",
    "            print('Документ перемещен.')\n",
    "    return"
   ]
  },
  {
   "cell_type": "code",
   "execution_count": 33,
   "metadata": {},
   "outputs": [],
   "source": [
    "def add_doc():\n",
    "    doc_number = input('Введите номер документа: ')\n",
    "    for person in documents:\n",
    "        if doc_number == person['number']:\n",
    "            print('Документ с таким номером существует.')\n",
    "            return\n",
    "    doc_type = input('Введите тип документа: ')    \n",
    "    name = input('Введите имя владельца документа: ')    \n",
    "    shelf_n = input('Введите номер полки: ')  \n",
    "    if shelf_n not in directories:\n",
    "        print('Данная полка не существует.')\n",
    "        return\n",
    "    documents.append({'type': doc_type, 'number': doc_number, 'name': name})\n",
    "    for shelf, docs_list in directories.items():\n",
    "        directories[shelf].append(doc_number)\n",
    "    print('Документ добавлен.')\n",
    "    return"
   ]
  },
  {
   "cell_type": "code",
   "execution_count": 36,
   "metadata": {},
   "outputs": [
    {
     "name": "stdout",
     "output_type": "stream",
     "text": [
      "Введите команду: a\n",
      "Введите номер документа: 3\n",
      "Введите тип документа: 333\n",
      "Введите имя владельца документа: 3\n",
      "Введите номер полки: 3\n",
      "Документ добавлен.\n"
     ]
    }
   ],
   "source": [
    "main = input('Введите команду: ') \n",
    "if main == 'p':\n",
    "    get_name_for_doc()\n",
    "elif main == 's':\n",
    "    get_shelf_for_doc()\n",
    "elif main == 'l':\n",
    "    get_all_docs()\n",
    "elif main == 'as':\n",
    "    add_shelf()\n",
    "elif main == 'd':\n",
    "    del_doc()\n",
    "elif main == 'm':\n",
    "    moove_doc()\n",
    "elif main == 'a':\n",
    "    add_doc()\n",
    "else:\n",
    "    print('Неправильная команда.')"
   ]
  },
  {
   "cell_type": "code",
   "execution_count": null,
   "metadata": {},
   "outputs": [],
   "source": []
  }
 ],
 "metadata": {
  "kernelspec": {
   "display_name": "Python 3",
   "language": "python",
   "name": "python3"
  },
  "language_info": {
   "codemirror_mode": {
    "name": "ipython",
    "version": 3
   },
   "file_extension": ".py",
   "mimetype": "text/x-python",
   "name": "python",
   "nbconvert_exporter": "python",
   "pygments_lexer": "ipython3",
   "version": "3.7.4"
  }
 },
 "nbformat": 4,
 "nbformat_minor": 2
}
